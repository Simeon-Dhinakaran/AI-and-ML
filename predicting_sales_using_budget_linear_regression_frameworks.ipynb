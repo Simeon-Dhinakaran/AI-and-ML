{
  "nbformat": 4,
  "nbformat_minor": 0,
  "metadata": {
    "colab": {
      "provenance": [],
      "authorship_tag": "ABX9TyMUwRP1TpHgtsQe5VirCS4G",
      "include_colab_link": true
    },
    "kernelspec": {
      "name": "python3",
      "display_name": "Python 3"
    },
    "language_info": {
      "name": "python"
    }
  },
  "cells": [
    {
      "cell_type": "markdown",
      "metadata": {
        "id": "view-in-github",
        "colab_type": "text"
      },
      "source": [
        "<a href=\"https://colab.research.google.com/github/Simeon-Dhinakaran/AI-and-ML/blob/main/predicting_sales_using_budget_linear_regression_frameworks.ipynb\" target=\"_parent\"><img src=\"https://colab.research.google.com/assets/colab-badge.svg\" alt=\"Open In Colab\"/></a>"
      ]
    },
    {
      "cell_type": "code",
      "execution_count": null,
      "metadata": {
        "id": "gRrtpXDwVSBW"
      },
      "outputs": [],
      "source": [
        "# python implementation of simple Linear Regression on sales\n",
        "\n",
        "# import the libraries\n",
        "import numpy as np\n",
        "import matplotlib.pyplot as plt\n",
        "import pandas as pd\n",
        "from sklearn.model_selection import train_test_split\n",
        "from sklearn.linear_model import LinearRegression"
      ]
    },
    {
      "cell_type": "code",
      "source": [
        "# step 1: reading the data and splitting it to input and output\n",
        "dataset = pd.read_csv('https://raw.githubusercontent.com/Simeon-Dhinakaran/AI-and-ML/refs/heads/main/Budget_For_Advertising.csv')\n",
        "inputx = dataset.iloc[:, 0:3].values\n",
        "outputy = dataset.iloc[:, 3].values"
      ],
      "metadata": {
        "id": "NuQpzExIVq6U"
      },
      "execution_count": null,
      "outputs": []
    },
    {
      "cell_type": "code",
      "source": [
        "# step 2: select one thirds of the data for testing and two thirds for training\n",
        "input_train, input_test, output_train, output_test = train_test_split(inputx, outputy, test_size = 1/4, random_state = 0)"
      ],
      "metadata": {
        "id": "CqCspFt3Wd5w"
      },
      "execution_count": null,
      "outputs": []
    },
    {
      "cell_type": "code",
      "source": [
        "# step 3: selecting the simple Linear Regression model\n",
        "model = LinearRegression()\n",
        "print(\"\\nThe parameters of the model are\\n\\n\",model.get_params())\n",
        "print(\"\\nThe model we are using is \", model.fit(input_train, output_train))"
      ],
      "metadata": {
        "id": "y2O76SmSWlCc"
      },
      "execution_count": null,
      "outputs": []
    },
    {
      "cell_type": "code",
      "source": [
        "from operator import ne\n",
        "# step 4: testing or model prediction using testinput\n",
        "tvBudget = float(input(\"\\nGive the TV Budget ($)  \"))\n",
        "radioBudget = float(input(\"\\nGive the Radio Budget ($)  \"))\n",
        "newspaperBudget = float(input(\"\\nGive the Newspaper Budget ($)  \"))\n",
        "testinput = [[tvBudget,radioBudget,newspaperBudget]]\n",
        "predicted_output = model.predict(testinput)\n",
        "print('\\nThe test input is as follows ',testinput)\n",
        "print('\\nThe predicted sales is ',predicted_output)\n",
        "yes = input(\"\\nCan I proceed\\n\")"
      ],
      "metadata": {
        "colab": {
          "base_uri": "https://localhost:8080/"
        },
        "id": "r4jK_eD5Wu0L",
        "outputId": "6bf7f7b6-5562-4565-80f0-ebb1335e6c0b"
      },
      "execution_count": null,
      "outputs": [
        {
          "output_type": "stream",
          "name": "stdout",
          "text": [
            "\n",
            "Give the TV Budget ($)  50.6\n",
            "\n",
            "Give the Radio Budget ($)  18.7\n",
            "\n",
            "Give the Newspaper Budget ($)  10.4\n",
            "\n",
            "The test input is as follows  [[50.6, 18.7, 10.4]]\n",
            "\n",
            "The predicted sales is  [9.20467327]\n"
          ]
        }
      ]
    },
    {
      "cell_type": "code",
      "source": [
        "# step 6: Printing the testing results\n",
        "print(\"\\nThe test input (TV Budget, Radio Budget and Newspaper Budget) is as follows \\n\")\n",
        "print(input_test)\n",
        "# model predicting the Test set results\n",
        "predicted_output = model.predict(input_test)\n",
        "print(\"\\nThe predicted sales for the test input is as follows \\n\")\n",
        "print(predicted_output)"
      ],
      "metadata": {
        "id": "i5y1P3byX3JW"
      },
      "execution_count": null,
      "outputs": []
    }
  ]
}